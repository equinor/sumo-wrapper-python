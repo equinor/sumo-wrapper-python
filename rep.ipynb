{
 "cells": [
  {
   "cell_type": "code",
   "execution_count": null,
   "metadata": {},
   "outputs": [],
   "source": [
    "from sumo.wrapper import SumoClient\n",
    "from fmu.sumo.explorer import Explorer\n",
    "\n",
    "sumoclient = SumoClient(env=\"dev\")\n",
    "\n",
    "explorer = Explorer(env=\"dev\")"
   ]
  },
  {
   "cell_type": "markdown",
   "metadata": {},
   "source": [
    "<h1>Find all cases for specific asset with status=status</h1>"
   ]
  },
  {
   "cell_type": "code",
   "execution_count": null,
   "metadata": {},
   "outputs": [],
   "source": [
    "asset = \"Johan Sverdrup\"\n",
    "status = \"keep\""
   ]
  },
  {
   "cell_type": "code",
   "execution_count": null,
   "metadata": {},
   "outputs": [],
   "source": [
    "# WRAPPER GET: find all cases for specific asset with status=status\n",
    "searchparams = {\n",
    "    \"$query\": f\"access.asset.name:\\\"{asset}\\\" AND _sumo.status:{status}\"\n",
    "}\n",
    "cases = sumoclient.get(\"/searchroot\", params=searchparams).json()[\"hits\"][\"hits\"]\n",
    "print(len(cases))\n"
   ]
  },
  {
   "cell_type": "code",
   "execution_count": null,
   "metadata": {},
   "outputs": [],
   "source": [
    "# WRAPPER POST: find all cases for specific asset with status=status\n",
    "query = {\n",
    "    \"query\": {\n",
    "        \"bool\": {\n",
    "            \"must\": [\n",
    "                {\n",
    "                    \"term\": {\n",
    "                        \"access.asset.name.keyword\": {\n",
    "                            \"value\": asset\n",
    "                        }\n",
    "                    }\n",
    "                },\n",
    "                {\n",
    "                    \"term\": {\n",
    "                        \"_sumo.status.keyword\": {\n",
    "                            \"value\": status\n",
    "                        }\n",
    "                    }\n",
    "                }\n",
    "            ]\n",
    "        }\n",
    "    }\n",
    "}\n",
    "cases = sumoclient.post(\"/search\", json=query).json()[\"hits\"][\"hits\"]\n",
    "print(len(cases))"
   ]
  },
  {
   "cell_type": "code",
   "execution_count": null,
   "metadata": {},
   "outputs": [],
   "source": [
    "# EXPLORER: find all cases for specific asset with status=status\n",
    "explorer_cases = explorer.cases.filter(\n",
    "    status=status,\n",
    "    asset=asset\n",
    ")\n",
    "print(len(explorer_cases))\n",
    "print(explorer_cases[0][\"fmu\"][\"case\"][\"uuid\"])"
   ]
  },
  {
   "cell_type": "code",
   "execution_count": null,
   "metadata": {},
   "outputs": [],
   "source": [
    "# WRAPPER POST: find all cases for MULTIPLE assets with status=status\n",
    "query = {\n",
    "    \"query\": {\n",
    "        \"bool\": {\n",
    "            \"must\": [\n",
    "                {\n",
    "                    \"terms\": {\n",
    "                        \"access.asset.name.keyword\": [\n",
    "                            \"Johan Sverdrup\", \"Drogon\"\n",
    "                        ]\n",
    "                    }\n",
    "                },\n",
    "                {\n",
    "                    \"term\": {\n",
    "                        \"_sumo.status.keyword\": {\n",
    "                            \"value\": status\n",
    "                        }\n",
    "                    }\n",
    "                }\n",
    "            ]\n",
    "        }\n",
    "    },\n",
    "    \"size\": 100\n",
    "}\n",
    "cases = sumoclient.post(\"/search\", json=query).json()[\"hits\"][\"hits\"]\n",
    "print(len(cases))"
   ]
  },
  {
   "cell_type": "markdown",
   "metadata": {},
   "source": [
    "<h1>Find all surfaces of a given case</h1>"
   ]
  },
  {
   "cell_type": "code",
   "execution_count": null,
   "metadata": {},
   "outputs": [],
   "source": [
    "caseuuid = \"ac1a2df9-961e-4a54-82a6-7da7283a2942\" # \"c8047a47-0652-483e-860f-fd62dbaf16a7\""
   ]
  },
  {
   "cell_type": "code",
   "execution_count": null,
   "metadata": {},
   "outputs": [],
   "source": [
    "# EXPLORER: find all surfaces for a case\n",
    "pit_explorer = Explorer(env=\"dev\", keep_alive=\"5m\")\n",
    "mycase = pit_explorer.get_case_by_uuid(caseuuid)\n",
    "\n",
    "surfaces = mycase.surfaces\n",
    "\n",
    "print(len(set(surfaces)))"
   ]
  },
  {
   "cell_type": "code",
   "execution_count": null,
   "metadata": {},
   "outputs": [],
   "source": [
    "# Without keep_alive\n",
    "no_pit_explorer = Explorer(env=\"dev\")\n",
    "mycase = no_pit_explorer.get_case_by_uuid(caseuuid)\n",
    "\n",
    "surfaces = mycase.surfaces\n",
    "\n",
    "print(len(set(surfaces)))"
   ]
  },
  {
   "cell_type": "code",
   "execution_count": null,
   "metadata": {},
   "outputs": [],
   "source": [
    "# WRAPPER with pit:\n",
    "pit = sumoclient.post(\"/pit\", params={\"keep_alive\": \"5m\"}).json()[\"id\"]\n",
    "\n",
    "surfaces = []\n",
    "search_after = None\n",
    "while True:\n",
    "    params = {\n",
    "        \"$query\": f\"class:surface AND _sumo.parent_object:{caseuuid}\",\n",
    "        \"$sort\": \"_doc:asc\",\n",
    "        \"$size\": 100,\n",
    "        \"$select\": \"false\",\n",
    "        \"$pit\": pit,\n",
    "        \"$pit_keepalive\": \"5m\" \n",
    "        }\n",
    "    if search_after is not None:\n",
    "        params[\"$search_after\"] = search_after\n",
    "    res = sumoclient.get(f\"/search\", params=params).json()\n",
    "    surfs = res[\"hits\"][\"hits\"]\n",
    "    if len(surfs) == 0:\n",
    "        break\n",
    "\n",
    "    pit = res[\"pit_id\"]\n",
    "    search_after = str(surfs[-1][\"sort\"])\n",
    "    surfaces += [s[\"_id\"] for s in surfs]\n",
    "\n",
    "print(len(set(surfaces)))"
   ]
  },
  {
   "cell_type": "code",
   "execution_count": null,
   "metadata": {},
   "outputs": [],
   "source": [
    "# WRAPPER WITHOUT pit: !! Not guaranteed to get everything\n",
    "surfaces = []\n",
    "search_after = None\n",
    "while True:\n",
    "    params = {\n",
    "        \"$query\": f\"class:surface AND _sumo.parent_object:{caseuuid}\",\n",
    "        \"$sort\": \"_doc:asc\",\n",
    "        \"$size\": 50,\n",
    "        \"$select\": \"false\",\n",
    "        }\n",
    "    if search_after is not None:\n",
    "        params[\"$search_after\"] = search_after\n",
    "    res = sumoclient.get(f\"/search\", params=params).json()\n",
    "    surfs = res[\"hits\"][\"hits\"]\n",
    "    if len(surfs) == 0:\n",
    "        break\n",
    "\n",
    "    search_after = str(surfs[-1][\"sort\"])\n",
    "    surfaces += [s[\"_id\"] for s in surfs]\n",
    "\n",
    "print(len(set(surfaces)))"
   ]
  },
  {
   "cell_type": "markdown",
   "metadata": {},
   "source": [
    "<h1>Nested aggregates</h1>"
   ]
  },
  {
   "cell_type": "code",
   "execution_count": null,
   "metadata": {},
   "outputs": [],
   "source": [
    "# WRAPPER: nested aggregates\n",
    "query = {\n",
    "  \"query\": {\n",
    "    \"term\": {\n",
    "      \"_sumo.parent_object.keyword\": {\n",
    "        \"value\": caseuuid\n",
    "      }\n",
    "    }\n",
    "  },\n",
    "  \"size\": 0,\n",
    "  \"track_total_hits\": \"true\",\n",
    "  \"aggs\": {\n",
    "    \"class\": {\n",
    "      \"terms\": {\n",
    "        \"field\": \"class.keyword\",\n",
    "        \"size\": 20\n",
    "      },\n",
    "      \"aggs\": {\n",
    "        \"name\": {\n",
    "          \"terms\": {\n",
    "            \"field\": \"data.name.keyword\",\n",
    "            \"size\": 100\n",
    "          },\n",
    "          \"aggs\": {\n",
    "            \"tagname\": {\n",
    "              \"terms\": {\n",
    "                \"field\": \"data.tagname.keyword\",\n",
    "                \"size\": 100\n",
    "              }\n",
    "            }\n",
    "          }\n",
    "        },\n",
    "        \"blobstats\": {\n",
    "          \"stats\": {\n",
    "            \"field\": \"_sumo.blob_size\"\n",
    "          }\n",
    "        }\n",
    "      }\n",
    "    }\n",
    "  }\n",
    "}\n",
    "res = sumoclient.post(\"/search\", json=query).json()\n",
    "\n",
    "import json\n",
    "print(json.dumps(res, indent=4))"
   ]
  }
 ],
 "metadata": {
  "kernelspec": {
   "display_name": "venv",
   "language": "python",
   "name": "python3"
  },
  "language_info": {
   "codemirror_mode": {
    "name": "ipython",
    "version": 3
   },
   "file_extension": ".py",
   "mimetype": "text/x-python",
   "name": "python",
   "nbconvert_exporter": "python",
   "pygments_lexer": "ipython3",
   "version": "3.10.11"
  }
 },
 "nbformat": 4,
 "nbformat_minor": 2
}
